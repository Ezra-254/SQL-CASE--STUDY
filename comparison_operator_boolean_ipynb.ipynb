{
  "nbformat": 4,
  "nbformat_minor": 0,
  "metadata": {
    "colab": {
      "provenance": [],
      "name": "comparison-operator-boolean-ipynb.ipynb",
      "authorship_tag": "ABX9TyMcox0sljXPBtNTL/xwMbfz",
      "include_colab_link": true
    },
    "kernelspec": {
      "name": "python3",
      "display_name": "Python 3"
    },
    "language_info": {
      "name": "python"
    }
  },
  "cells": [
    {
      "cell_type": "markdown",
      "metadata": {
        "id": "view-in-github",
        "colab_type": "text"
      },
      "source": [
        "<a href=\"https://colab.research.google.com/github/Ezra-254/SQL-Query-/blob/main/comparison_operator_boolean_ipynb.ipynb\" target=\"_parent\"><img src=\"https://colab.research.google.com/assets/colab-badge.svg\" alt=\"Open In Colab\"/></a>"
      ]
    },
    {
      "cell_type": "code",
      "execution_count": null,
      "metadata": {
        "colab": {
          "base_uri": "https://localhost:8080/"
        },
        "id": "eIDPl8gVSnP3",
        "outputId": "fb4bce3e-142a-4bbd-aaa8-46bd269814d9"
      },
      "outputs": [
        {
          "output_type": "execute_result",
          "data": {
            "text/plain": [
              "False"
            ]
          },
          "metadata": {},
          "execution_count": 1
        }
      ],
      "source": [
        "# comparison operator(boolean)--true/false\n",
        "5==6"
      ]
    },
    {
      "cell_type": "code",
      "source": [
        "8 != 9"
      ],
      "metadata": {
        "colab": {
          "base_uri": "https://localhost:8080/"
        },
        "id": "JQk8pvW-TB_p",
        "outputId": "4ba6f415-2dc4-4397-9822-d1b33b84e91a"
      },
      "execution_count": null,
      "outputs": [
        {
          "output_type": "execute_result",
          "data": {
            "text/plain": [
              "True"
            ]
          },
          "metadata": {},
          "execution_count": 2
        }
      ]
    },
    {
      "cell_type": "code",
      "source": [
        "a = 5\n",
        "b = 6\n",
        "a==b"
      ],
      "metadata": {
        "colab": {
          "base_uri": "https://localhost:8080/"
        },
        "id": "JBbZ7J7MTJoc",
        "outputId": "b5e06fcd-df3a-432a-c494-f5d8c33296da"
      },
      "execution_count": null,
      "outputs": [
        {
          "output_type": "execute_result",
          "data": {
            "text/plain": [
              "False"
            ]
          },
          "metadata": {},
          "execution_count": 3
        }
      ]
    },
    {
      "cell_type": "code",
      "source": [
        "5 > 5"
      ],
      "metadata": {
        "colab": {
          "base_uri": "https://localhost:8080/"
        },
        "id": "zy_NP7qLTXNT",
        "outputId": "8e7870e4-4490-4346-92ef-6ecf11c45a9c"
      },
      "execution_count": null,
      "outputs": [
        {
          "output_type": "execute_result",
          "data": {
            "text/plain": [
              "False"
            ]
          },
          "metadata": {},
          "execution_count": 4
        }
      ]
    },
    {
      "cell_type": "code",
      "source": [
        "5< 5"
      ],
      "metadata": {
        "colab": {
          "base_uri": "https://localhost:8080/"
        },
        "id": "kznLrTt_TdAP",
        "outputId": "87035d61-da26-41eb-dd8a-b08cddb94a10"
      },
      "execution_count": null,
      "outputs": [
        {
          "output_type": "execute_result",
          "data": {
            "text/plain": [
              "False"
            ]
          },
          "metadata": {},
          "execution_count": 5
        }
      ]
    },
    {
      "cell_type": "code",
      "source": [
        "5<6"
      ],
      "metadata": {
        "colab": {
          "base_uri": "https://localhost:8080/"
        },
        "id": "B3RQYxJfTfEM",
        "outputId": "e455bade-02db-4faa-b982-6a4ed1365fa9"
      },
      "execution_count": null,
      "outputs": [
        {
          "output_type": "execute_result",
          "data": {
            "text/plain": [
              "True"
            ]
          },
          "metadata": {},
          "execution_count": 6
        }
      ]
    },
    {
      "cell_type": "code",
      "source": [
        "6<=6"
      ],
      "metadata": {
        "colab": {
          "base_uri": "https://localhost:8080/"
        },
        "id": "9_77iw-rTgqi",
        "outputId": "9ae3d54d-4796-449b-d542-3022fd8b1efc"
      },
      "execution_count": null,
      "outputs": [
        {
          "output_type": "execute_result",
          "data": {
            "text/plain": [
              "True"
            ]
          },
          "metadata": {},
          "execution_count": 7
        }
      ]
    },
    {
      "cell_type": "markdown",
      "source": [
        "#**Logical Operators**\n",
        "##AND\n",
        "##OR\n",
        "##NOT"
      ],
      "metadata": {
        "id": "PF9hUtS_TrZM"
      }
    },
    {
      "cell_type": "code",
      "source": [
        "# AND\n",
        "\n",
        "True and False\n",
        "\n",
        "# is like -*/=-(is like positive * negative which is negative)"
      ],
      "metadata": {
        "colab": {
          "base_uri": "https://localhost:8080/"
        },
        "id": "7BKviYpEUIS0",
        "outputId": "40e56b14-7db4-4a8c-9fac-972071c1e37d"
      },
      "execution_count": null,
      "outputs": [
        {
          "output_type": "execute_result",
          "data": {
            "text/plain": [
              "False"
            ]
          },
          "metadata": {},
          "execution_count": 9
        }
      ]
    },
    {
      "cell_type": "code",
      "source": [
        "print(True and False)\n",
        "print(False and False)\n",
        "print(True and True)"
      ],
      "metadata": {
        "colab": {
          "base_uri": "https://localhost:8080/"
        },
        "id": "WnT20p2vXI9c",
        "outputId": "a55d68ce-2023-48d8-f604-3c309c76b25a"
      },
      "execution_count": null,
      "outputs": [
        {
          "output_type": "stream",
          "name": "stdout",
          "text": [
            "False\n",
            "False\n",
            "True\n"
          ]
        }
      ]
    },
    {
      "cell_type": "code",
      "source": [
        "True and True"
      ],
      "metadata": {
        "colab": {
          "base_uri": "https://localhost:8080/"
        },
        "id": "bFiqQNeTU2El",
        "outputId": "5c9ef6b0-12de-4862-c008-3f8a6dd0aabb"
      },
      "execution_count": null,
      "outputs": [
        {
          "output_type": "execute_result",
          "data": {
            "text/plain": [
              "True"
            ]
          },
          "metadata": {},
          "execution_count": 11
        }
      ]
    },
    {
      "cell_type": "code",
      "source": [
        "False and False"
      ],
      "metadata": {
        "colab": {
          "base_uri": "https://localhost:8080/"
        },
        "id": "GjcuiyUcVoqK",
        "outputId": "dd49bf67-5a45-4967-aedd-6421670f41cd"
      },
      "execution_count": null,
      "outputs": [
        {
          "output_type": "execute_result",
          "data": {
            "text/plain": [
              "False"
            ]
          },
          "metadata": {},
          "execution_count": 22
        }
      ]
    },
    {
      "cell_type": "code",
      "source": [
        "False and False # it can only be true if both condition are true"
      ],
      "metadata": {
        "colab": {
          "base_uri": "https://localhost:8080/"
        },
        "id": "KbiKHNUlVS3m",
        "outputId": "109c39af-4f35-4d54-d75b-4028105335da"
      },
      "execution_count": null,
      "outputs": [
        {
          "output_type": "execute_result",
          "data": {
            "text/plain": [
              "False"
            ]
          },
          "metadata": {},
          "execution_count": 14
        }
      ]
    },
    {
      "cell_type": "code",
      "source": [
        "# OR\n",
        "##it will always be false if both values are false   and true if one value is true\n",
        "print(True or False)\n",
        "print(False or False)\n",
        "print(True or True)\n"
      ],
      "metadata": {
        "colab": {
          "base_uri": "https://localhost:8080/"
        },
        "id": "xTz4BJmvVbEP",
        "outputId": "26de0844-541e-43e5-a3af-2efcf726b02e"
      },
      "execution_count": null,
      "outputs": [
        {
          "output_type": "stream",
          "name": "stdout",
          "text": [
            "True\n",
            "False\n",
            "True\n"
          ]
        }
      ]
    },
    {
      "cell_type": "code",
      "source": [
        "# NOT\n",
        "print(True or False)\n",
        "print(False or False)\n",
        "print(True or True)"
      ],
      "metadata": {
        "colab": {
          "base_uri": "https://localhost:8080/"
        },
        "id": "ESgg3Z9wWlSO",
        "outputId": "ade9d476-84ad-40f6-f1df-bc1760f48b9e"
      },
      "execution_count": null,
      "outputs": [
        {
          "output_type": "stream",
          "name": "stdout",
          "text": [
            "True\n",
            "False\n",
            "True\n"
          ]
        }
      ]
    },
    {
      "cell_type": "code",
      "source": [
        "#operator precedence\n",
        "not True and False or True"
      ],
      "metadata": {
        "colab": {
          "base_uri": "https://localhost:8080/"
        },
        "id": "0cZUUVdDXk_b",
        "outputId": "f06e80a5-77d7-4476-9cae-3c088cc1d9bc"
      },
      "execution_count": null,
      "outputs": [
        {
          "output_type": "execute_result",
          "data": {
            "text/plain": [
              "True"
            ]
          },
          "metadata": {},
          "execution_count": 23
        }
      ]
    },
    {
      "cell_type": "markdown",
      "source": [
        "# Numbers and Booleans\n",
        "\n",
        "## Numbers\n",
        " -interger\n",
        " -floats"
      ],
      "metadata": {
        "id": "oeehDDr3cPi7"
      }
    },
    {
      "cell_type": "code",
      "source": [
        "a=5"
      ],
      "metadata": {
        "id": "LBxgG3LfdJ9Q"
      },
      "execution_count": null,
      "outputs": []
    },
    {
      "cell_type": "code",
      "source": [
        "type(a)"
      ],
      "metadata": {
        "colab": {
          "base_uri": "https://localhost:8080/"
        },
        "id": "LCAxGid7du3H",
        "outputId": "c23a059f-cba3-419c-de67-bc415dc301d4"
      },
      "execution_count": null,
      "outputs": [
        {
          "output_type": "execute_result",
          "data": {
            "text/plain": [
              "int"
            ]
          },
          "metadata": {},
          "execution_count": 25
        }
      ]
    },
    {
      "cell_type": "code",
      "source": [
        "b=3.5"
      ],
      "metadata": {
        "id": "H0kqmm7ZdwSg"
      },
      "execution_count": null,
      "outputs": []
    },
    {
      "cell_type": "code",
      "source": [
        "type(b)"
      ],
      "metadata": {
        "colab": {
          "base_uri": "https://localhost:8080/"
        },
        "id": "izItKeDIdy3T",
        "outputId": "1efa6e7e-4f21-4174-c546-42d4abf45cc9"
      },
      "execution_count": null,
      "outputs": [
        {
          "output_type": "execute_result",
          "data": {
            "text/plain": [
              "float"
            ]
          },
          "metadata": {},
          "execution_count": 27
        }
      ]
    },
    {
      "cell_type": "markdown",
      "source": [
        "## changing data type from float and vice-versa"
      ],
      "metadata": {
        "id": "bWwYo-EJd0YW"
      }
    },
    {
      "cell_type": "code",
      "source": [
        "a = 9\n",
        "float(a)"
      ],
      "metadata": {
        "colab": {
          "base_uri": "https://localhost:8080/"
        },
        "id": "01uTFm65eNIq",
        "outputId": "052207ef-ac80-4227-87be-2d7de63d3d4d"
      },
      "execution_count": null,
      "outputs": [
        {
          "output_type": "execute_result",
          "data": {
            "text/plain": [
              "9.0"
            ]
          },
          "metadata": {},
          "execution_count": 28
        }
      ]
    },
    {
      "cell_type": "code",
      "source": [
        "b=9/2\n"
      ],
      "metadata": {
        "id": "tv264vnuebuX"
      },
      "execution_count": null,
      "outputs": []
    },
    {
      "cell_type": "code",
      "source": [
        "type(b)"
      ],
      "metadata": {
        "colab": {
          "base_uri": "https://localhost:8080/"
        },
        "id": "jsl9WCpHefFP",
        "outputId": "cdef8bd4-447c-4e8b-9f70-42bced8a8893"
      },
      "execution_count": null,
      "outputs": [
        {
          "output_type": "execute_result",
          "data": {
            "text/plain": [
              "float"
            ]
          },
          "metadata": {},
          "execution_count": 32
        }
      ]
    },
    {
      "cell_type": "code",
      "source": [
        "b = int(b)"
      ],
      "metadata": {
        "id": "1eH5dqM1eqwQ"
      },
      "execution_count": null,
      "outputs": []
    },
    {
      "cell_type": "code",
      "source": [
        "type(b)"
      ],
      "metadata": {
        "colab": {
          "base_uri": "https://localhost:8080/"
        },
        "id": "hJz43fDce3zc",
        "outputId": "02f34ec3-9a84-4dff-847a-3140d819404f"
      },
      "execution_count": null,
      "outputs": [
        {
          "output_type": "execute_result",
          "data": {
            "text/plain": [
              "int"
            ]
          },
          "metadata": {},
          "execution_count": 34
        }
      ]
    },
    {
      "cell_type": "code",
      "source": [
        "b"
      ],
      "metadata": {
        "colab": {
          "base_uri": "https://localhost:8080/"
        },
        "id": "JIFdojrne7QW",
        "outputId": "10e8243e-c529-487c-8d69-113dc31fb37a"
      },
      "execution_count": null,
      "outputs": [
        {
          "output_type": "execute_result",
          "data": {
            "text/plain": [
              "4"
            ]
          },
          "metadata": {},
          "execution_count": 35
        }
      ]
    },
    {
      "cell_type": "markdown",
      "source": [],
      "metadata": {
        "id": "PkGo5TMBe9zR"
      }
    },
    {
      "cell_type": "code",
      "source": [
        "#boolean-true,false\n",
        "r = True\n",
        "s = False"
      ],
      "metadata": {
        "id": "_UYTzpaBfAR4"
      },
      "execution_count": null,
      "outputs": []
    },
    {
      "cell_type": "code",
      "source": [
        "print(type(r))\n",
        "print(type(s))"
      ],
      "metadata": {
        "colab": {
          "base_uri": "https://localhost:8080/"
        },
        "id": "A-ednlazfMKE",
        "outputId": "b5303be7-7bed-47e1-b3dd-568d8f120b69"
      },
      "execution_count": null,
      "outputs": [
        {
          "output_type": "stream",
          "name": "stdout",
          "text": [
            "<class 'bool'>\n",
            "<class 'bool'>\n"
          ]
        }
      ]
    },
    {
      "cell_type": "markdown",
      "source": [
        "#python strings"
      ],
      "metadata": {
        "id": "a0YBFubDgXNK"
      }
    },
    {
      "cell_type": "code",
      "source": [
        "\"he is a data scientist\""
      ],
      "metadata": {
        "colab": {
          "base_uri": "https://localhost:8080/",
          "height": 35
        },
        "id": "jdhiw05NgpgL",
        "outputId": "b5f07805-e990-4cd6-d215-27bfc9f3c39f"
      },
      "execution_count": null,
      "outputs": [
        {
          "output_type": "execute_result",
          "data": {
            "text/plain": [
              "'he is a data scientist'"
            ],
            "application/vnd.google.colaboratory.intrinsic+json": {
              "type": "string"
            }
          },
          "metadata": {},
          "execution_count": 41
        }
      ]
    },
    {
      "cell_type": "code",
      "source": [
        "print(\"he is a data scientist\")"
      ],
      "metadata": {
        "colab": {
          "base_uri": "https://localhost:8080/"
        },
        "id": "erBjQbjyhC8u",
        "outputId": "e32c603e-4b26-4590-e844-ceb8fc3bb906"
      },
      "execution_count": null,
      "outputs": [
        {
          "output_type": "stream",
          "name": "stdout",
          "text": [
            "he is a data scientist\n"
          ]
        }
      ]
    },
    {
      "cell_type": "code",
      "source": [
        "print(\"Newtons's third law: \"Every action has an equal but opposite reaction\"\")"
      ],
      "metadata": {
        "colab": {
          "base_uri": "https://localhost:8080/",
          "height": 106
        },
        "id": "H3zXbxR_hKNA",
        "outputId": "ce0169dc-9dfb-48c4-eb42-6c0c2c028c0e"
      },
      "execution_count": null,
      "outputs": [
        {
          "output_type": "error",
          "ename": "SyntaxError",
          "evalue": "invalid syntax. Perhaps you forgot a comma? (<ipython-input-45-f6ea2ae7371c>, line 1)",
          "traceback": [
            "\u001b[0;36m  File \u001b[0;32m\"<ipython-input-45-f6ea2ae7371c>\"\u001b[0;36m, line \u001b[0;32m1\u001b[0m\n\u001b[0;31m    print(\"Newtons's third law: \"Every action has an equal but opposite reaction\"\")\u001b[0m\n\u001b[0m          ^\u001b[0m\n\u001b[0;31mSyntaxError\u001b[0m\u001b[0;31m:\u001b[0m invalid syntax. Perhaps you forgot a comma?\n"
          ]
        }
      ]
    },
    {
      "cell_type": "code",
      "source": [
        "print('Newtons's third law: \"Every action has an equal but opposite reaction\"')"
      ],
      "metadata": {
        "colab": {
          "base_uri": "https://localhost:8080/",
          "height": 106
        },
        "id": "7S72tldlizqO",
        "outputId": "a98373b9-9d65-4aaa-815d-9a4fd93740f0"
      },
      "execution_count": null,
      "outputs": [
        {
          "output_type": "error",
          "ename": "SyntaxError",
          "evalue": "unterminated string literal (detected at line 1) (<ipython-input-46-7fc1c3a6d4c3>, line 1)",
          "traceback": [
            "\u001b[0;36m  File \u001b[0;32m\"<ipython-input-46-7fc1c3a6d4c3>\"\u001b[0;36m, line \u001b[0;32m1\u001b[0m\n\u001b[0;31m    print('Newtons's third law: \"Every action has an equal but opposite reaction\"')\u001b[0m\n\u001b[0m                                                                                 ^\u001b[0m\n\u001b[0;31mSyntaxError\u001b[0m\u001b[0;31m:\u001b[0m unterminated string literal (detected at line 1)\n"
          ]
        }
      ]
    },
    {
      "cell_type": "code",
      "source": [
        "print('Newtons\\'s third law: \"Every action has an equal but opposite reaction\"')\n",
        "\n",
        "## \\n is a terminator or escape character"
      ],
      "metadata": {
        "colab": {
          "base_uri": "https://localhost:8080/"
        },
        "id": "pQJ-2cRni5jv",
        "outputId": "59ae71da-baad-4878-ee59-f5cc7f124ac9"
      },
      "execution_count": null,
      "outputs": [
        {
          "output_type": "stream",
          "name": "stdout",
          "text": [
            "Newtons's third law: \"Every action has an equal but opposite reaction\"\n"
          ]
        }
      ]
    },
    {
      "cell_type": "markdown",
      "source": [
        "# Concatination:\n",
        "##bring two string together using a \"+\" sign"
      ],
      "metadata": {
        "id": "DDY4fsrgjDXd"
      }
    },
    {
      "cell_type": "code",
      "source": [
        "print(\"hello\" + \" world\")"
      ],
      "metadata": {
        "colab": {
          "base_uri": "https://localhost:8080/"
        },
        "id": "m-I62Ztfjx25",
        "outputId": "48940edd-4492-4591-8fcd-27ff3d643958"
      },
      "execution_count": null,
      "outputs": [
        {
          "output_type": "stream",
          "name": "stdout",
          "text": [
            "hello world\n"
          ]
        }
      ]
    },
    {
      "cell_type": "code",
      "source": [],
      "metadata": {
        "id": "_VAHU2V6j0VZ"
      },
      "execution_count": null,
      "outputs": []
    },
    {
      "cell_type": "code",
      "source": [],
      "metadata": {
        "id": "VdMiBMXOkHr4"
      },
      "execution_count": null,
      "outputs": []
    },
    {
      "cell_type": "markdown",
      "source": [
        "# String indexing"
      ],
      "metadata": {
        "id": "4z8uR3w-kSnH"
      }
    },
    {
      "cell_type": "code",
      "source": [
        "#you access each character in string using indexing"
      ],
      "metadata": {
        "id": "nlYfcIsalxG7"
      },
      "execution_count": null,
      "outputs": []
    },
    {
      "cell_type": "code",
      "source": [
        "greetings = \"Hello World\""
      ],
      "metadata": {
        "id": "61Utd0OVlqYh"
      },
      "execution_count": null,
      "outputs": []
    },
    {
      "cell_type": "code",
      "source": [
        "print(greetings)"
      ],
      "metadata": {
        "colab": {
          "base_uri": "https://localhost:8080/"
        },
        "id": "he3uuDLNmWlf",
        "outputId": "28d84f8b-0be7-4507-c616-7694120b5740"
      },
      "execution_count": null,
      "outputs": [
        {
          "output_type": "stream",
          "name": "stdout",
          "text": [
            "Hello World\n"
          ]
        }
      ]
    },
    {
      "cell_type": "code",
      "source": [
        "print(\"First Character: \", [0])"
      ],
      "metadata": {
        "colab": {
          "base_uri": "https://localhost:8080/"
        },
        "id": "qDBHiMGAmgHu",
        "outputId": "e279fc68-e13e-4115-c518-150ed49b865a"
      },
      "execution_count": null,
      "outputs": [
        {
          "output_type": "stream",
          "name": "stdout",
          "text": [
            "First Character:  [0]\n"
          ]
        }
      ]
    },
    {
      "cell_type": "code",
      "source": [
        "greetings[0]"
      ],
      "metadata": {
        "colab": {
          "base_uri": "https://localhost:8080/",
          "height": 35
        },
        "id": "sprpIg5cm3Zx",
        "outputId": "c5ef6d75-29ce-4c8b-d41d-6b8fe482f1f7"
      },
      "execution_count": null,
      "outputs": [
        {
          "output_type": "execute_result",
          "data": {
            "text/plain": [
              "'H'"
            ],
            "application/vnd.google.colaboratory.intrinsic+json": {
              "type": "string"
            }
          },
          "metadata": {},
          "execution_count": 74
        }
      ]
    },
    {
      "cell_type": "code",
      "source": [
        "greetings[6]"
      ],
      "metadata": {
        "colab": {
          "base_uri": "https://localhost:8080/",
          "height": 35
        },
        "id": "c7ivFTqjnPuo",
        "outputId": "a47ba028-10a1-406d-ab8a-ee0613c82963"
      },
      "execution_count": null,
      "outputs": [
        {
          "output_type": "execute_result",
          "data": {
            "text/plain": [
              "'W'"
            ],
            "application/vnd.google.colaboratory.intrinsic+json": {
              "type": "string"
            }
          },
          "metadata": {},
          "execution_count": 75
        }
      ]
    },
    {
      "cell_type": "code",
      "source": [
        "##getting an index you use square brackets"
      ],
      "metadata": {
        "id": "TFKFuK1eqqPQ"
      },
      "execution_count": null,
      "outputs": []
    },
    {
      "cell_type": "markdown",
      "source": [
        "# String Slicing"
      ],
      "metadata": {
        "id": "_vXIIZLDq1Ga"
      }
    },
    {
      "cell_type": "code",
      "source": [
        "#Extracting a particular substring from the string. We use the  '[:]'\n",
        "greetings[0:5]"
      ],
      "metadata": {
        "colab": {
          "base_uri": "https://localhost:8080/",
          "height": 35
        },
        "id": "3QkS90wTsk2K",
        "outputId": "4ef96bf4-314b-4e99-c86b-c4d155889bf4"
      },
      "execution_count": null,
      "outputs": [
        {
          "output_type": "execute_result",
          "data": {
            "text/plain": [
              "'Hello'"
            ],
            "application/vnd.google.colaboratory.intrinsic+json": {
              "type": "string"
            }
          },
          "metadata": {},
          "execution_count": 82
        }
      ]
    },
    {
      "cell_type": "markdown",
      "source": [
        "# Calculating the length of the string\n",
        "## we use len()"
      ],
      "metadata": {
        "id": "Cv5bdNpvtKNp"
      }
    },
    {
      "cell_type": "code",
      "source": [
        "print(len(greetings))"
      ],
      "metadata": {
        "colab": {
          "base_uri": "https://localhost:8080/"
        },
        "id": "L6y2UafRt-om",
        "outputId": "8472b54c-1bd9-4d18-8341-a98cd51c046d"
      },
      "execution_count": null,
      "outputs": [
        {
          "output_type": "stream",
          "name": "stdout",
          "text": [
            "11\n"
          ]
        }
      ]
    },
    {
      "cell_type": "code",
      "source": [
        "print(greetings[len(greetings)-1])"
      ],
      "metadata": {
        "colab": {
          "base_uri": "https://localhost:8080/"
        },
        "id": "-L3_FOj8uMGP",
        "outputId": "ec68d330-bc2e-439f-9bcb-acd872306b93"
      },
      "execution_count": null,
      "outputs": [
        {
          "output_type": "stream",
          "name": "stdout",
          "text": [
            "d\n"
          ]
        }
      ]
    },
    {
      "cell_type": "markdown",
      "source": [
        "# Conditional Statements\n",
        "\n",
        "## if\n",
        "## if else\n",
        "## elif"
      ],
      "metadata": {
        "id": "fq2-YDktxznA"
      }
    },
    {
      "cell_type": "markdown",
      "source": [
        "#For loop and while loop"
      ],
      "metadata": {
        "id": "rWhfkAuBzdvx"
      }
    },
    {
      "cell_type": "code",
      "source": [
        " ##While loop - Repeats instructions until the condition is met\n",
        " i = 0\n",
        " while i != 10:\n",
        "  print(\"Run loop\")\n",
        "  i = i + 1"
      ],
      "metadata": {
        "id": "RUFfnP5vN8uM",
        "outputId": "8d26f674-add5-4b24-9985-7649a06ce76a",
        "colab": {
          "base_uri": "https://localhost:8080/"
        }
      },
      "execution_count": 2,
      "outputs": [
        {
          "output_type": "stream",
          "name": "stdout",
          "text": [
            "Run loop\n",
            "Run loop\n",
            "Run loop\n",
            "Run loop\n",
            "Run loop\n",
            "Run loop\n",
            "Run loop\n",
            "Run loop\n",
            "Run loop\n",
            "Run loop\n"
          ]
        }
      ]
    },
    {
      "cell_type": "code",
      "source": [
        "#For loops\n",
        "for x in range(3):\n",
        "  print(\"d\")"
      ],
      "metadata": {
        "id": "Q_Cw7w6wQDDw",
        "outputId": "ab2069b6-c2d8-497b-9dfa-ea7377ae33b4",
        "colab": {
          "base_uri": "https://localhost:8080/"
        }
      },
      "execution_count": 3,
      "outputs": [
        {
          "output_type": "stream",
          "name": "stdout",
          "text": [
            "d\n",
            "d\n",
            "d\n"
          ]
        }
      ]
    },
    {
      "cell_type": "markdown",
      "source": [
        "# Lists in Python\n",
        "## it is a collection of different variables"
      ],
      "metadata": {
        "id": "jhqkFrIIQiBo"
      }
    },
    {
      "cell_type": "code",
      "source": [
        "my_list=[1,2,3,4,'python','is','neat']"
      ],
      "metadata": {
        "id": "Toc_A1h1RP18"
      },
      "execution_count": 5,
      "outputs": []
    },
    {
      "cell_type": "code",
      "source": [
        "type(my_list)"
      ],
      "metadata": {
        "id": "Isikj5OoRcJd",
        "outputId": "adafbfda-df2e-44df-efb9-957d39c0df28",
        "colab": {
          "base_uri": "https://localhost:8080/"
        }
      },
      "execution_count": 6,
      "outputs": [
        {
          "output_type": "execute_result",
          "data": {
            "text/plain": [
              "list"
            ]
          },
          "metadata": {},
          "execution_count": 6
        }
      ]
    },
    {
      "cell_type": "code",
      "source": [
        "for item in my_list:\n",
        "  print(item)\n"
      ],
      "metadata": {
        "id": "qG71W62aRlLF",
        "outputId": "4c3324a5-053c-4e52-b9a4-d54fd6671d1e",
        "colab": {
          "base_uri": "https://localhost:8080/"
        }
      },
      "execution_count": 9,
      "outputs": [
        {
          "output_type": "stream",
          "name": "stdout",
          "text": [
            "1\n",
            "2\n",
            "3\n",
            "4\n",
            "python\n",
            "is\n",
            "neat\n"
          ]
        }
      ]
    },
    {
      "cell_type": "markdown",
      "source": [
        "# Break\n",
        "## stops execution of the loop"
      ],
      "metadata": {
        "id": "zvGcuzCoR8u5"
      }
    },
    {
      "cell_type": "code",
      "source": [
        "for item in my_list:  ##looping through list\n",
        "  if item =='python':\n",
        "    break\n",
        "  print(item)"
      ],
      "metadata": {
        "id": "cr4ftUWSSML1",
        "outputId": "63b42e83-adc2-459e-e9df-8d24e2adefdd",
        "colab": {
          "base_uri": "https://localhost:8080/"
        }
      },
      "execution_count": 11,
      "outputs": [
        {
          "output_type": "stream",
          "name": "stdout",
          "text": [
            "1\n",
            "2\n",
            "3\n",
            "4\n"
          ]
        }
      ]
    },
    {
      "cell_type": "markdown",
      "source": [
        "#Continue\n",
        "## Continue to the next item without executing the lines occurring after continue inside the loop"
      ],
      "metadata": {
        "id": "4QlfzLezSrIG"
      }
    },
    {
      "cell_type": "code",
      "source": [
        "for item in my_list:  ##looping through list\n",
        "  if item ==1:\n",
        "    continue\n",
        "  print(item)"
      ],
      "metadata": {
        "id": "yApppOlETles",
        "outputId": "df393416-50a5-4a0d-caad-6d3ad44a4fcf",
        "colab": {
          "base_uri": "https://localhost:8080/"
        }
      },
      "execution_count": 13,
      "outputs": [
        {
          "output_type": "stream",
          "name": "stdout",
          "text": [
            "2\n",
            "3\n",
            "4\n",
            "python\n",
            "is\n",
            "neat\n"
          ]
        }
      ]
    },
    {
      "cell_type": "markdown",
      "source": [
        "#Enumerate in a list\n",
        "## Incase you want to know the index(idx)m"
      ],
      "metadata": {
        "id": "4C-j8EMxTu0Q"
      }
    },
    {
      "cell_type": "code",
      "source": [],
      "metadata": {
        "id": "bysgj6XBVoBR"
      },
      "execution_count": null,
      "outputs": []
    },
    {
      "cell_type": "code",
      "source": [
        "for idx, val  in enumerate(my_list):  ##looping through list\n",
        "  print('idx:{}, value:{}'. format(idx,val))"
      ],
      "metadata": {
        "id": "cuBJPqNrVeZx",
        "outputId": "2f4727ad-d297-4ded-b774-08575d7dde68",
        "colab": {
          "base_uri": "https://localhost:8080/"
        }
      },
      "execution_count": 15,
      "outputs": [
        {
          "output_type": "stream",
          "name": "stdout",
          "text": [
            "idx:0, value:1\n",
            "idx:1, value:2\n",
            "idx:2, value:3\n",
            "idx:3, value:4\n",
            "idx:4, value:python\n",
            "idx:5, value:is\n",
            "idx:6, value:neat\n"
          ]
        }
      ]
    },
    {
      "cell_type": "code",
      "source": [],
      "metadata": {
        "id": "sQYprOJFWHYY"
      },
      "execution_count": null,
      "outputs": []
    }
  ]
}