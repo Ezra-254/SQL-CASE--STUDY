{
  "nbformat": 4,
  "nbformat_minor": 0,
  "metadata": {
    "colab": {
      "provenance": [],
      "authorship_tag": "ABX9TyPNWSQxon/Y77GlsHR6A/v4",
      "include_colab_link": true
    },
    "kernelspec": {
      "name": "python3",
      "display_name": "Python 3"
    },
    "language_info": {
      "name": "python"
    }
  },
  "cells": [
    {
      "cell_type": "markdown",
      "metadata": {
        "id": "view-in-github",
        "colab_type": "text"
      },
      "source": [
        "<a href=\"https://colab.research.google.com/github/Ezra-254/SQL-Query-/blob/main/Variables.ipynb\" target=\"_parent\"><img src=\"https://colab.research.google.com/assets/colab-badge.svg\" alt=\"Open In Colab\"/></a>"
      ]
    },
    {
      "cell_type": "markdown",
      "source": [
        "# Variables in Python\n",
        "## Data structure used to store information.\n",
        "### Example below\n",
        "\n"
      ],
      "metadata": {
        "id": "KhIQWFI8gqPS"
      }
    },
    {
      "cell_type": "code",
      "source": [
        "a = 4\n",
        "## 'a' is a variable and it stores value 4. Everytime you call 'a' it will return its value. Let us look at that.MB"
      ],
      "metadata": {
        "id": "ny001Mtsi3aP"
      },
      "execution_count": 1,
      "outputs": []
    },
    {
      "cell_type": "code",
      "source": [
        "a"
      ],
      "metadata": {
        "colab": {
          "base_uri": "https://localhost:8080/"
        },
        "id": "tzz05NWfjuTG",
        "outputId": "ff51f6d4-e11e-49d7-d745-8ff9f54fd742"
      },
      "execution_count": 2,
      "outputs": [
        {
          "output_type": "execute_result",
          "data": {
            "text/plain": [
              "4"
            ]
          },
          "metadata": {},
          "execution_count": 2
        }
      ]
    },
    {
      "cell_type": "markdown",
      "source": [
        "## You see we just called value a and we got that 4 is printed out."
      ],
      "metadata": {
        "id": "yRregyHpj6pB"
      }
    },
    {
      "cell_type": "code",
      "source": [
        "a = 5\n",
        "a"
      ],
      "metadata": {
        "colab": {
          "base_uri": "https://localhost:8080/"
        },
        "id": "-ikTDM8FmwAM",
        "outputId": "835a18a9-c4e1-4913-bab9-a59ac6e54863"
      },
      "execution_count": 4,
      "outputs": [
        {
          "output_type": "execute_result",
          "data": {
            "text/plain": [
              "5"
            ]
          },
          "metadata": {},
          "execution_count": 4
        }
      ]
    },
    {
      "cell_type": "markdown",
      "source": [
        "#in the above exampe, we have have seen that upon calling 'a' we get value 5. This shows that a variable can only store one value."
      ],
      "metadata": {
        "id": "nreIXD3ZnAS5"
      }
    },
    {
      "cell_type": "markdown",
      "source": [
        "# Naming of Variables\n",
        "\n",
        "## Case sensitive.\n",
        "\n"
      ],
      "metadata": {
        "id": "9iVJUVWTngB-"
      }
    },
    {
      "cell_type": "code",
      "source": [
        "a = 90\n"
      ],
      "metadata": {
        "id": "zjYOUphzoPo3"
      },
      "execution_count": 7,
      "outputs": []
    },
    {
      "cell_type": "code",
      "source": [
        "a"
      ],
      "metadata": {
        "colab": {
          "base_uri": "https://localhost:8080/"
        },
        "id": "_-LE8t6KoUot",
        "outputId": "0a69377a-2f12-448a-fd64-3838ea3e55fb"
      },
      "execution_count": 9,
      "outputs": [
        {
          "output_type": "execute_result",
          "data": {
            "text/plain": [
              "90"
            ]
          },
          "metadata": {},
          "execution_count": 9
        }
      ]
    },
    {
      "cell_type": "code",
      "source": [
        "A = 100"
      ],
      "metadata": {
        "id": "JeSx5QhyoYRu"
      },
      "execution_count": 13,
      "outputs": []
    },
    {
      "cell_type": "code",
      "source": [
        "A"
      ],
      "metadata": {
        "colab": {
          "base_uri": "https://localhost:8080/"
        },
        "id": "t0DtimsKoa8u",
        "outputId": "f9ebff98-3256-49d2-c1d3-eb06e088d67d"
      },
      "execution_count": 15,
      "outputs": [
        {
          "output_type": "execute_result",
          "data": {
            "text/plain": [
              "100"
            ]
          },
          "metadata": {},
          "execution_count": 15
        }
      ]
    },
    {
      "cell_type": "markdown",
      "source": [
        "## Variable should start with a letter"
      ],
      "metadata": {
        "id": "S4PZofX_ol2h"
      }
    },
    {
      "cell_type": "code",
      "source": [
        "a1 = 2"
      ],
      "metadata": {
        "id": "Y_Fg53VrpDQM"
      },
      "execution_count": 17,
      "outputs": []
    },
    {
      "cell_type": "code",
      "source": [
        "a1"
      ],
      "metadata": {
        "colab": {
          "base_uri": "https://localhost:8080/"
        },
        "id": "wTpUyEJtpL3r",
        "outputId": "7b50b8c5-c711-4f81-ec53-d1fa1a54f873"
      },
      "execution_count": 19,
      "outputs": [
        {
          "output_type": "execute_result",
          "data": {
            "text/plain": [
              "2"
            ]
          },
          "metadata": {},
          "execution_count": 19
        }
      ]
    },
    {
      "cell_type": "code",
      "source": [
        "1a = 2"
      ],
      "metadata": {
        "colab": {
          "base_uri": "https://localhost:8080/",
          "height": 106
        },
        "id": "5UeHn0sqpQC3",
        "outputId": "2d66be87-dd0a-4011-8a1d-3d98a8bea09e"
      },
      "execution_count": 21,
      "outputs": [
        {
          "output_type": "error",
          "ename": "SyntaxError",
          "evalue": "invalid decimal literal (<ipython-input-21-971ad3f6197a>, line 1)",
          "traceback": [
            "\u001b[0;36m  File \u001b[0;32m\"<ipython-input-21-971ad3f6197a>\"\u001b[0;36m, line \u001b[0;32m1\u001b[0m\n\u001b[0;31m    1a = 2\u001b[0m\n\u001b[0m    ^\u001b[0m\n\u001b[0;31mSyntaxError\u001b[0m\u001b[0;31m:\u001b[0m invalid decimal literal\n"
          ]
        }
      ]
    },
    {
      "cell_type": "markdown",
      "source": [
        "# Do not use special characters only underscore"
      ],
      "metadata": {
        "id": "BlWkz8fYpg0F"
      }
    },
    {
      "cell_type": "code",
      "source": [
        "@ = 2"
      ],
      "metadata": {
        "colab": {
          "base_uri": "https://localhost:8080/",
          "height": 106
        },
        "id": "cPttTzP_pw03",
        "outputId": "695a5ad5-db7c-439d-8824-696d03ed594b"
      },
      "execution_count": 23,
      "outputs": [
        {
          "output_type": "error",
          "ename": "SyntaxError",
          "evalue": "invalid syntax (<ipython-input-23-f1229b1ebcc3>, line 1)",
          "traceback": [
            "\u001b[0;36m  File \u001b[0;32m\"<ipython-input-23-f1229b1ebcc3>\"\u001b[0;36m, line \u001b[0;32m1\u001b[0m\n\u001b[0;31m    @ = 2\u001b[0m\n\u001b[0m      ^\u001b[0m\n\u001b[0;31mSyntaxError\u001b[0m\u001b[0;31m:\u001b[0m invalid syntax\n"
          ]
        }
      ]
    },
    {
      "cell_type": "code",
      "source": [
        "_ = 45"
      ],
      "metadata": {
        "id": "e1lxwBn4p1zI"
      },
      "execution_count": 26,
      "outputs": []
    },
    {
      "cell_type": "code",
      "source": [
        "_"
      ],
      "metadata": {
        "colab": {
          "base_uri": "https://localhost:8080/"
        },
        "id": "iQ458gs_qNZN",
        "outputId": "13e4f83c-4810-4076-eb05-49f880767697"
      },
      "execution_count": 27,
      "outputs": [
        {
          "output_type": "execute_result",
          "data": {
            "text/plain": [
              "45"
            ]
          },
          "metadata": {},
          "execution_count": 27
        }
      ]
    },
    {
      "cell_type": "markdown",
      "source": [
        "Print function"
      ],
      "metadata": {
        "id": "Ft-6Uz34qOQZ"
      }
    },
    {
      "cell_type": "code",
      "source": [
        "a = 9\n",
        "b = 45\n",
        "a\n",
        "b"
      ],
      "metadata": {
        "colab": {
          "base_uri": "https://localhost:8080/"
        },
        "id": "-hjB8XQnrv71",
        "outputId": "0d2afd87-412e-40f8-a4e9-61bcd24b2a92"
      },
      "execution_count": 29,
      "outputs": [
        {
          "output_type": "execute_result",
          "data": {
            "text/plain": [
              "45"
            ]
          },
          "metadata": {},
          "execution_count": 29
        }
      ]
    },
    {
      "cell_type": "code",
      "source": [
        "print(a)\n",
        "print(b)"
      ],
      "metadata": {
        "colab": {
          "base_uri": "https://localhost:8080/"
        },
        "id": "1vn2zaJfr_2X",
        "outputId": "a3ce74a0-aeb0-4ed1-9c0b-51116d9b64cd"
      },
      "execution_count": 31,
      "outputs": [
        {
          "output_type": "stream",
          "name": "stdout",
          "text": [
            "9\n",
            "45\n"
          ]
        }
      ]
    },
    {
      "cell_type": "code",
      "source": [
        "print(a,b)"
      ],
      "metadata": {
        "colab": {
          "base_uri": "https://localhost:8080/"
        },
        "id": "hZEXqgJ3sKNe",
        "outputId": "c1e1814e-d34f-4f63-f5be-9e1df1228423"
      },
      "execution_count": 33,
      "outputs": [
        {
          "output_type": "stream",
          "name": "stdout",
          "text": [
            "9 45\n"
          ]
        }
      ]
    },
    {
      "cell_type": "code",
      "source": [
        "a, b=3,4"
      ],
      "metadata": {
        "id": "31jSuuWqscXc"
      },
      "execution_count": 35,
      "outputs": []
    },
    {
      "cell_type": "code",
      "source": [
        "print(a,b)"
      ],
      "metadata": {
        "colab": {
          "base_uri": "https://localhost:8080/"
        },
        "id": "MAs_GVKisk3S",
        "outputId": "b29989ae-4be1-4fd3-88fc-5d8597921813"
      },
      "execution_count": 36,
      "outputs": [
        {
          "output_type": "stream",
          "name": "stdout",
          "text": [
            "3 4\n"
          ]
        }
      ]
    }
  ]
}